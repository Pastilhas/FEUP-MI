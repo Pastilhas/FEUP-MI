{
  "nbformat": 4,
  "nbformat_minor": 0,
  "metadata": {
    "colab": {
      "name": "MI",
      "provenance": [],
      "collapsed_sections": []
    },
    "kernelspec": {
      "name": "python3",
      "display_name": "Python 3"
    },
    "language_info": {
      "name": "python"
    },
    "accelerator": "GPU"
  },
  "cells": [
    {
      "cell_type": "markdown",
      "metadata": {
        "id": "bIRJOM5taFBW"
      },
      "source": [
        "1. Create the directories \n",
        "- data/input_midi/\n",
        "- data/input_txt/\n",
        "- data/output_midi/\n",
        "- data/output_txt/\n",
        "- model/\n",
        "\n",
        "2. Load midi files to data/input_midi/\n",
        "- http://www.piano-midi.de/\n",
        "\n",
        "3. Run the project in order\n",
        "- `generate_data.py` will create the txt files for each midi\n",
        "- `concat_data.py` will create the training and testings data, and the vocab\n",
        "- `train_model.py` trains a model and saves it\n",
        "- `run_model.py` creates a txt output file using the model\n",
        "- `create_midi.py` converts the txt output file to midi\n"
      ]
    },
    {
      "cell_type": "code",
      "metadata": {
        "id": "hdz18lfIkWSw"
      },
      "source": [
        "!python3 generate_data.py"
      ],
      "execution_count": null,
      "outputs": []
    },
    {
      "cell_type": "code",
      "metadata": {
        "id": "MyMZpI6AjgQ7"
      },
      "source": [
        "!python3 concat_data.py"
      ],
      "execution_count": null,
      "outputs": []
    },
    {
      "cell_type": "code",
      "metadata": {
        "id": "f5b6WrgDxsO-"
      },
      "source": [
        "!python3 train_model.py"
      ],
      "execution_count": null,
      "outputs": []
    },
    {
      "cell_type": "code",
      "metadata": {
        "id": "s6oo-GZqFQQk"
      },
      "source": [
        "!python3 run_model.py"
      ],
      "execution_count": null,
      "outputs": []
    },
    {
      "cell_type": "code",
      "metadata": {
        "id": "4Oap9IA3wZG6"
      },
      "source": [
        "!python3 create_midi.py"
      ],
      "execution_count": null,
      "outputs": []
    }
  ]
}